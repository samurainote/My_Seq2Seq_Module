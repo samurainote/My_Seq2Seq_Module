{
 "cells": [
  {
   "cell_type": "markdown",
   "metadata": {},
   "source": [
    "## seq2seq Slack Bot"
   ]
  },
  {
   "cell_type": "markdown",
   "metadata": {},
   "source": [
    "![](https://cdn-images-1.medium.com/max/2560/1*1I2tTjCkMHlQ-r73eRn4ZQ.png)"
   ]
  },
  {
   "cell_type": "markdown",
   "metadata": {},
   "source": [
    "Dictionary{ id: word } or List of words [[\"I\", \"am\" ,\"Akira\"], [\"He\", \"is\" ,\"Vivec\"]] ???"
   ]
  },
  {
   "cell_type": "code",
   "execution_count": 10,
   "metadata": {},
   "outputs": [],
   "source": [
    "import json\n",
    "import os\n",
    "import shutil\n",
    "\n",
    "import numpy as np\n",
    "from keras.layers import Input, Embedding, LSTM, TimeDistributed, Dense\n",
    "from keras.models import Model"
   ]
  },
  {
   "cell_type": "code",
   "execution_count": 12,
   "metadata": {},
   "outputs": [],
   "source": [
    "def seq2seq_model_generator(\n",
    "        input_dict_size, \n",
    "        output_dict_size,\n",
    "        input_length=20,\n",
    "        output_length=20):\n",
    "    \n",
    "    #  define length of encoder/decoder\n",
    "    encoder_input = Input(shape=(input_length, ))\n",
    "    decoder_input = Input(shape=(output_length, ))\n",
    "    \n",
    "    #  encoder\n",
    "    encoder_input2embedding = Embedding(input_dim=imput_dict_size,\n",
    "                        output_dim=64,\n",
    "                        input_length=input_length,\n",
    "                        mask_zero=True)(encoder_input)\n",
    "    embedding2encoder = LSTM(units=64, return_sequences=True)(encoder_input2embedding)\n",
    "    \n",
    "    # decoder\n",
    "    decoder_input2embedding = Embedding(input_dim=output_dict_size,\n",
    "                        output_dim=64,\n",
    "                        input_length=output_length,\n",
    "                        mask_zero=True)(decoder_input)\n",
    "    embedding2decoder = LSTM(units=64, return_sequences=True)(decoder_input2embedding)\n",
    "    decoder2output = TimeDistributed(Dense(units=output_dict_size, activation=\"softmax\"))(embedding2decoder)\n",
    "    \n",
    "    model = Model(inputs=[encoder_input, decoder_input], outputs=[decoder2output])\n",
    "    model.compile(optimizer=\"adam\", loss=\"categorical_crossentropy\")\n",
    "    \n",
    "    return model"
   ]
  },
  {
   "cell_type": "code",
   "execution_count": 13,
   "metadata": {},
   "outputs": [],
   "source": [
    "from keras.layers import Activation, dot, concatenate"
   ]
  },
  {
   "cell_type": "code",
   "execution_count": null,
   "metadata": {},
   "outputs": [],
   "source": [
    "encoder2attention = dot([embedding2decoder, embedding2encoder], axes=[2, 2])\n",
    "attention2softmax = Activation(\"softmax\", name=\"attention\")(encoder2attention)\n",
    "\n",
    "context_vector = dot([attention2softmax, embedding2encoder], axes=[2, 1])\n",
    "\n",
    "context_vector_decoder = concatenate([context_vector, embedding2decoder])\n",
    "\n",
    "decoder2tanh = Dense(units=64, activation=\"tanh\")\n",
    "tanh2context = TimeDistributed(decoder2tanh)(context_vector_decoder)\n",
    "context2softmax = Dense(units=output_dict_size, activation=\"softmax\")\n",
    "softmax2output = TimeDistributed(context2softmax)(tanh2context)"
   ]
  },
  {
   "cell_type": "code",
   "execution_count": null,
   "metadata": {},
   "outputs": [],
   "source": []
  }
 ],
 "metadata": {
  "kernelspec": {
   "display_name": "Python 3",
   "language": "python",
   "name": "python3"
  },
  "language_info": {
   "codemirror_mode": {
    "name": "ipython",
    "version": 3
   },
   "file_extension": ".py",
   "mimetype": "text/x-python",
   "name": "python",
   "nbconvert_exporter": "python",
   "pygments_lexer": "ipython3",
   "version": "3.5.1"
  }
 },
 "nbformat": 4,
 "nbformat_minor": 2
}
